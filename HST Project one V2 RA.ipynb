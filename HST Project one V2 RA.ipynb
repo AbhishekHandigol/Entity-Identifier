{
 "cells": [
  {
   "cell_type": "code",
   "execution_count": 1,
   "metadata": {},
   "outputs": [
    {
     "name": "stderr",
     "output_type": "stream",
     "text": [
      "[nltk_data] Downloading package stopwords to\n",
      "[nltk_data]     /Users/rohanmalhotra/nltk_data...\n",
      "[nltk_data]   Unzipping corpora/stopwords.zip.\n"
     ]
    }
   ],
   "source": [
    "import matplotlib.pyplot as plt\n",
    "import numpy as np\n",
    "import pandas as pd\n",
    "import scipy as sp\n",
    "import lxml.html as lx\n",
    "import requests\n",
    "import requests_cache\n",
    "requests_cache.install_cache(\"../sfchronicle\")\n",
    "import time\n",
    "import re\n",
    "import nltk\n",
    "import nltk.corpus\n",
    "nltk.download('stopwords')\n",
    "from itertools import chain\n",
    "import matplotlib.pyplot as plt\n",
    "import seaborn as sns\n",
    "%matplotlib inline"
   ]
  },
  {
   "cell_type": "code",
   "execution_count": 2,
   "metadata": {},
   "outputs": [
    {
     "ename": "NameError",
     "evalue": "name 'response' is not defined",
     "output_type": "error",
     "traceback": [
      "\u001b[0;31m---------------------------------------------------------------------------\u001b[0m",
      "\u001b[0;31mNameError\u001b[0m                                 Traceback (most recent call last)",
      "\u001b[0;32m<ipython-input-2-781b12b49b23>\u001b[0m in \u001b[0;36m<module>\u001b[0;34m\u001b[0m\n\u001b[1;32m      1\u001b[0m \u001b[0;32mfrom\u001b[0m \u001b[0mbs4\u001b[0m \u001b[0;32mimport\u001b[0m \u001b[0mBeautifulSoup\u001b[0m\u001b[0;34m\u001b[0m\u001b[0;34m\u001b[0m\u001b[0m\n\u001b[0;32m----> 2\u001b[0;31m \u001b[0mhtml_soup\u001b[0m \u001b[0;34m=\u001b[0m \u001b[0mBeautifulSoup\u001b[0m\u001b[0;34m(\u001b[0m\u001b[0mresponse\u001b[0m\u001b[0;34m.\u001b[0m\u001b[0mtext\u001b[0m\u001b[0;34m,\u001b[0m \u001b[0;34m'html.parser'\u001b[0m\u001b[0;34m)\u001b[0m\u001b[0;34m\u001b[0m\u001b[0;34m\u001b[0m\u001b[0m\n\u001b[0m\u001b[1;32m      3\u001b[0m \u001b[0mtype\u001b[0m\u001b[0;34m(\u001b[0m\u001b[0mhtml_soup\u001b[0m\u001b[0;34m)\u001b[0m\u001b[0;34m\u001b[0m\u001b[0;34m\u001b[0m\u001b[0m\n",
      "\u001b[0;31mNameError\u001b[0m: name 'response' is not defined"
     ]
    }
   ],
   "source": [
    "from bs4 import BeautifulSoup\n",
    "html_soup = BeautifulSoup(response.text, 'html.parser')\n",
    "type(html_soup)"
   ]
  },
  {
   "cell_type": "markdown",
   "metadata": {},
   "source": [
    "## Step One: Get the links of 500 articles"
   ]
  },
  {
   "cell_type": "code",
   "execution_count": 14,
   "metadata": {},
   "outputs": [],
   "source": [
    "def get_links_one_page(url):\n",
    "    \n",
    "    # Load in the web page \n",
    "    response = requests.get(url)\n",
    "    html_soup = BeautifulSoup(response.text, 'html.parser')\n",
    "    \n",
    "    \n",
    "    # Get all the articles on that page\n",
    "    articles = html_soup.find_all('div', class_ = 'col-md-4 col-sm-6 spacer-xs')\n",
    "    \n",
    "    # Get the text form \n",
    "    all_text = [str(articles[i].a) for i in range(0,len(articles))]\n",
    "    \n",
    "    # Get the links\n",
    "    links = [re.findall('http[s]?://(?:[a-zA-Z]|[0-9]|[$-_@.&+]|[!*\\(\\),]|(?:%[0-9a-fA-F][0-9a-fA-F]))+', all_text[i])[0]\n",
    "      for i in range(0,len(all_text))]\n",
    "    \n",
    "    return links"
   ]
  },
  {
   "cell_type": "markdown",
   "metadata": {},
   "source": [
    "#### Get links of all the different pages to scrape"
   ]
  },
  {
   "cell_type": "code",
   "execution_count": 15,
   "metadata": {},
   "outputs": [],
   "source": [
    "months = [str(i) for i in range(1,10)]"
   ]
  },
  {
   "cell_type": "code",
   "execution_count": 18,
   "metadata": {},
   "outputs": [],
   "source": [
    "# Will get all pages from janurary to october\n",
    "all_pages = [\"https://thatgrapejuice.net/2019/\" + months[i] + \"/page/\" for i in range(0, len(months))]"
   ]
  },
  {
   "cell_type": "code",
   "execution_count": 19,
   "metadata": {},
   "outputs": [
    {
     "data": {
      "text/plain": [
       "['https://thatgrapejuice.net/2019/1/page/',\n",
       " 'https://thatgrapejuice.net/2019/2/page/',\n",
       " 'https://thatgrapejuice.net/2019/3/page/',\n",
       " 'https://thatgrapejuice.net/2019/4/page/',\n",
       " 'https://thatgrapejuice.net/2019/5/page/',\n",
       " 'https://thatgrapejuice.net/2019/6/page/',\n",
       " 'https://thatgrapejuice.net/2019/7/page/',\n",
       " 'https://thatgrapejuice.net/2019/8/page/',\n",
       " 'https://thatgrapejuice.net/2019/9/page/']"
      ]
     },
     "execution_count": 19,
     "metadata": {},
     "output_type": "execute_result"
    }
   ],
   "source": [
    "all_pages"
   ]
  },
  {
   "cell_type": "code",
   "execution_count": 20,
   "metadata": {},
   "outputs": [],
   "source": [
    "# Only want the first 5 pages of each month\n",
    "pages = [str(i) for i in range(1,6)]"
   ]
  },
  {
   "cell_type": "code",
   "execution_count": 21,
   "metadata": {},
   "outputs": [],
   "source": [
    "newl = []"
   ]
  },
  {
   "cell_type": "code",
   "execution_count": 22,
   "metadata": {},
   "outputs": [],
   "source": [
    "# Gets the link for the first 5 pages for each month \n",
    "for i in range(0,len(all_pages)):\n",
    "    for j in range(0,len(pages)):\n",
    "                 newl.append(all_pages[i] + pages[j])"
   ]
  },
  {
   "cell_type": "code",
   "execution_count": 23,
   "metadata": {},
   "outputs": [
    {
     "data": {
      "text/plain": [
       "['https://thatgrapejuice.net/2019/1/page/1',\n",
       " 'https://thatgrapejuice.net/2019/1/page/2',\n",
       " 'https://thatgrapejuice.net/2019/1/page/3',\n",
       " 'https://thatgrapejuice.net/2019/1/page/4',\n",
       " 'https://thatgrapejuice.net/2019/1/page/5',\n",
       " 'https://thatgrapejuice.net/2019/2/page/1',\n",
       " 'https://thatgrapejuice.net/2019/2/page/2',\n",
       " 'https://thatgrapejuice.net/2019/2/page/3',\n",
       " 'https://thatgrapejuice.net/2019/2/page/4',\n",
       " 'https://thatgrapejuice.net/2019/2/page/5',\n",
       " 'https://thatgrapejuice.net/2019/3/page/1',\n",
       " 'https://thatgrapejuice.net/2019/3/page/2',\n",
       " 'https://thatgrapejuice.net/2019/3/page/3',\n",
       " 'https://thatgrapejuice.net/2019/3/page/4',\n",
       " 'https://thatgrapejuice.net/2019/3/page/5',\n",
       " 'https://thatgrapejuice.net/2019/4/page/1',\n",
       " 'https://thatgrapejuice.net/2019/4/page/2',\n",
       " 'https://thatgrapejuice.net/2019/4/page/3',\n",
       " 'https://thatgrapejuice.net/2019/4/page/4',\n",
       " 'https://thatgrapejuice.net/2019/4/page/5',\n",
       " 'https://thatgrapejuice.net/2019/5/page/1',\n",
       " 'https://thatgrapejuice.net/2019/5/page/2',\n",
       " 'https://thatgrapejuice.net/2019/5/page/3',\n",
       " 'https://thatgrapejuice.net/2019/5/page/4',\n",
       " 'https://thatgrapejuice.net/2019/5/page/5',\n",
       " 'https://thatgrapejuice.net/2019/6/page/1',\n",
       " 'https://thatgrapejuice.net/2019/6/page/2',\n",
       " 'https://thatgrapejuice.net/2019/6/page/3',\n",
       " 'https://thatgrapejuice.net/2019/6/page/4',\n",
       " 'https://thatgrapejuice.net/2019/6/page/5',\n",
       " 'https://thatgrapejuice.net/2019/7/page/1',\n",
       " 'https://thatgrapejuice.net/2019/7/page/2',\n",
       " 'https://thatgrapejuice.net/2019/7/page/3',\n",
       " 'https://thatgrapejuice.net/2019/7/page/4',\n",
       " 'https://thatgrapejuice.net/2019/7/page/5',\n",
       " 'https://thatgrapejuice.net/2019/8/page/1',\n",
       " 'https://thatgrapejuice.net/2019/8/page/2',\n",
       " 'https://thatgrapejuice.net/2019/8/page/3',\n",
       " 'https://thatgrapejuice.net/2019/8/page/4',\n",
       " 'https://thatgrapejuice.net/2019/8/page/5',\n",
       " 'https://thatgrapejuice.net/2019/9/page/1',\n",
       " 'https://thatgrapejuice.net/2019/9/page/2',\n",
       " 'https://thatgrapejuice.net/2019/9/page/3',\n",
       " 'https://thatgrapejuice.net/2019/9/page/4',\n",
       " 'https://thatgrapejuice.net/2019/9/page/5']"
      ]
     },
     "execution_count": 23,
     "metadata": {},
     "output_type": "execute_result"
    }
   ],
   "source": [
    "newl"
   ]
  },
  {
   "cell_type": "code",
   "execution_count": 24,
   "metadata": {},
   "outputs": [
    {
     "data": {
      "text/plain": [
       "45"
      ]
     },
     "execution_count": 24,
     "metadata": {},
     "output_type": "execute_result"
    }
   ],
   "source": [
    "# 50 urls, each urls has about 10-12 articles so 50 * 10 = i should get the links of 500 articles\n",
    "len(newl)"
   ]
  },
  {
   "cell_type": "code",
   "execution_count": 25,
   "metadata": {},
   "outputs": [],
   "source": [
    "# Scrape each of the 50 webpages to only get links of the articles \n",
    "all_article_urls = [get_links_one_page(newl[i]) for i in range(0, len(newl))]"
   ]
  },
  {
   "cell_type": "code",
   "execution_count": 26,
   "metadata": {},
   "outputs": [
    {
     "data": {
      "text/plain": [
       "45"
      ]
     },
     "execution_count": 26,
     "metadata": {},
     "output_type": "execute_result"
    }
   ],
   "source": [
    "# Since lenth is 50 that means our list is a nested list \n",
    "len(all_article_urls)"
   ]
  },
  {
   "cell_type": "code",
   "execution_count": 27,
   "metadata": {},
   "outputs": [],
   "source": [
    "# Flatten nested list \n",
    "all_article_urls = sum(all_article_urls, [])"
   ]
  },
  {
   "cell_type": "code",
   "execution_count": 28,
   "metadata": {},
   "outputs": [
    {
     "data": {
      "text/plain": [
       "540"
      ]
     },
     "execution_count": 28,
     "metadata": {},
     "output_type": "execute_result"
    }
   ],
   "source": [
    "len(all_article_urls)"
   ]
  },
  {
   "cell_type": "markdown",
   "metadata": {},
   "source": [
    "### Scrape each of the 500 webpages and store them as a json file "
   ]
  },
  {
   "cell_type": "code",
   "execution_count": 29,
   "metadata": {},
   "outputs": [],
   "source": [
    "def get_file_content(url):\n",
    "    response = requests.get(url)\n",
    "    return response.text"
   ]
  },
  {
   "cell_type": "code",
   "execution_count": 32,
   "metadata": {},
   "outputs": [],
   "source": [
    "all_content = [get_file_content(all_article_urls[i]) for i in range(0,len(all_article_urls))]"
   ]
  },
  {
   "cell_type": "code",
   "execution_count": 54,
   "metadata": {},
   "outputs": [
    {
     "ename": "NameError",
     "evalue": "name 'bs' is not defined",
     "output_type": "error",
     "traceback": [
      "\u001b[0;31m---------------------------------------------------------------------------\u001b[0m",
      "\u001b[0;31mNameError\u001b[0m                                 Traceback (most recent call last)",
      "\u001b[0;32m<ipython-input-54-fa2982442d0a>\u001b[0m in \u001b[0;36m<module>\u001b[0;34m\u001b[0m\n\u001b[0;32m----> 1\u001b[0;31m \u001b[0mbs\u001b[0m\u001b[0;34m(\u001b[0m\u001b[0mall_content\u001b[0m\u001b[0;34m)\u001b[0m\u001b[0;34m\u001b[0m\u001b[0;34m\u001b[0m\u001b[0m\n\u001b[0m",
      "\u001b[0;31mNameError\u001b[0m: name 'bs' is not defined"
     ]
    }
   ],
   "source": [
    "bs(all_content)"
   ]
  },
  {
   "cell_type": "markdown",
   "metadata": {},
   "source": [
    "Can be used to get json files\n",
    "\n",
    "for i in range(0, len(all_content)):\n",
    "    filename = str(subset[i]) + \".json\"\n",
    "    with open(filename, 'w') as json_file:\n",
    "        json.dump(file_content, json_file)"
   ]
  },
  {
   "cell_type": "code",
   "execution_count": 34,
   "metadata": {},
   "outputs": [
    {
     "data": {
      "text/plain": [
       "540"
      ]
     },
     "execution_count": 34,
     "metadata": {},
     "output_type": "execute_result"
    }
   ],
   "source": [
    "len(all_content)"
   ]
  },
  {
   "cell_type": "code",
   "execution_count": 39,
   "metadata": {},
   "outputs": [],
   "source": [
    "dat = {'Url': all_article_urls, 'Content': all_content}"
   ]
  },
  {
   "cell_type": "code",
   "execution_count": 40,
   "metadata": {},
   "outputs": [],
   "source": [
    "final_df = pd.DataFrame(dat)"
   ]
  },
  {
   "cell_type": "code",
   "execution_count": 47,
   "metadata": {},
   "outputs": [],
   "source": [
    "export = final_df.to_csv(\"articl_dat.csv\", header = None, index = False)"
   ]
  },
  {
   "cell_type": "code",
   "execution_count": 44,
   "metadata": {},
   "outputs": [
    {
     "data": {
      "text/html": [
       "<div>\n",
       "<style scoped>\n",
       "    .dataframe tbody tr th:only-of-type {\n",
       "        vertical-align: middle;\n",
       "    }\n",
       "\n",
       "    .dataframe tbody tr th {\n",
       "        vertical-align: top;\n",
       "    }\n",
       "\n",
       "    .dataframe thead th {\n",
       "        text-align: right;\n",
       "    }\n",
       "</style>\n",
       "<table border=\"1\" class=\"dataframe\">\n",
       "  <thead>\n",
       "    <tr style=\"text-align: right;\">\n",
       "      <th></th>\n",
       "      <th>Url</th>\n",
       "      <th>Content</th>\n",
       "    </tr>\n",
       "  </thead>\n",
       "  <tbody>\n",
       "    <tr>\n",
       "      <th>0</th>\n",
       "      <td>https://thatgrapejuice.net/entertainment/2019/...</td>\n",
       "      <td>\\n&lt;!doctype html&gt;\\n&lt;html lang=\"en\"&gt;\\n&lt;head&gt;\\n&lt;...</td>\n",
       "    </tr>\n",
       "    <tr>\n",
       "      <th>1</th>\n",
       "      <td>https://thatgrapejuice.net/2019/01/cardi-says-...</td>\n",
       "      <td>\\n&lt;!doctype html&gt;\\n&lt;html lang=\"en\"&gt;\\n&lt;head&gt;\\n&lt;...</td>\n",
       "    </tr>\n",
       "    <tr>\n",
       "      <th>2</th>\n",
       "      <td>https://thatgrapejuice.net/2019/01/new-video-j...</td>\n",
       "      <td>\\n&lt;!doctype html&gt;\\n&lt;html lang=\"en\"&gt;\\n&lt;head&gt;\\n&lt;...</td>\n",
       "    </tr>\n",
       "    <tr>\n",
       "      <th>3</th>\n",
       "      <td>https://thatgrapejuice.net/entertainment/2019/...</td>\n",
       "      <td>\\n&lt;!doctype html&gt;\\n&lt;html lang=\"en\"&gt;\\n&lt;head&gt;\\n&lt;...</td>\n",
       "    </tr>\n",
       "    <tr>\n",
       "      <th>4</th>\n",
       "      <td>https://thatgrapejuice.net/entertainment/2019/...</td>\n",
       "      <td>\\n&lt;!doctype html&gt;\\n&lt;html lang=\"en\"&gt;\\n&lt;head&gt;\\n&lt;...</td>\n",
       "    </tr>\n",
       "  </tbody>\n",
       "</table>\n",
       "</div>"
      ],
      "text/plain": [
       "                                                 Url  \\\n",
       "0  https://thatgrapejuice.net/entertainment/2019/...   \n",
       "1  https://thatgrapejuice.net/2019/01/cardi-says-...   \n",
       "2  https://thatgrapejuice.net/2019/01/new-video-j...   \n",
       "3  https://thatgrapejuice.net/entertainment/2019/...   \n",
       "4  https://thatgrapejuice.net/entertainment/2019/...   \n",
       "\n",
       "                                             Content  \n",
       "0  \\n<!doctype html>\\n<html lang=\"en\">\\n<head>\\n<...  \n",
       "1  \\n<!doctype html>\\n<html lang=\"en\">\\n<head>\\n<...  \n",
       "2  \\n<!doctype html>\\n<html lang=\"en\">\\n<head>\\n<...  \n",
       "3  \\n<!doctype html>\\n<html lang=\"en\">\\n<head>\\n<...  \n",
       "4  \\n<!doctype html>\\n<html lang=\"en\">\\n<head>\\n<...  "
      ]
     },
     "execution_count": 44,
     "metadata": {},
     "output_type": "execute_result"
    }
   ],
   "source": [
    "final_df[0:5]"
   ]
  },
  {
   "cell_type": "code",
   "execution_count": 51,
   "metadata": {},
   "outputs": [],
   "source": [
    "final_df.to_excel(\"final_df.xlsx\")"
   ]
  },
  {
   "cell_type": "code",
   "execution_count": 49,
   "metadata": {},
   "outputs": [
    {
     "ename": "NameError",
     "evalue": "name 'write' is not defined",
     "output_type": "error",
     "traceback": [
      "\u001b[0;31m---------------------------------------------------------------------------\u001b[0m",
      "\u001b[0;31mNameError\u001b[0m                                 Traceback (most recent call last)",
      "\u001b[0;32m<ipython-input-49-9caa59ebbc9d>\u001b[0m in \u001b[0;36m<module>\u001b[0;34m\u001b[0m\n\u001b[0;32m----> 1\u001b[0;31m \u001b[0mwrite\u001b[0m\u001b[0;34m.\u001b[0m\u001b[0mcsv\u001b[0m\u001b[0;34m(\u001b[0m\u001b[0mfinal_df\u001b[0m\u001b[0;34m)\u001b[0m\u001b[0;34m\u001b[0m\u001b[0;34m\u001b[0m\u001b[0m\n\u001b[0m",
      "\u001b[0;31mNameError\u001b[0m: name 'write' is not defined"
     ]
    }
   ],
   "source": [
    "write.csv(final_df)"
   ]
  },
  {
   "cell_type": "code",
   "execution_count": 50,
   "metadata": {},
   "outputs": [],
   "source": [
    "final_df.to_csv('file.csv',encoding='utf-8-sig')"
   ]
  },
  {
   "cell_type": "code",
   "execution_count": 56,
   "metadata": {},
   "outputs": [
    {
     "data": {
      "text/plain": [
       "'https://thatgrapejuice.net/2019/01/cardi-says-she-offset-are-working-things-out/'"
      ]
     },
     "execution_count": 56,
     "metadata": {},
     "output_type": "execute_result"
    }
   ],
   "source": [
    "final_df[\"Url\"][1]"
   ]
  },
  {
   "cell_type": "code",
   "execution_count": 90,
   "metadata": {},
   "outputs": [],
   "source": [
    "x = all_content[2]"
   ]
  },
  {
   "cell_type": "code",
   "execution_count": 91,
   "metadata": {},
   "outputs": [],
   "source": [
    "import re"
   ]
  },
  {
   "cell_type": "code",
   "execution_count": 126,
   "metadata": {},
   "outputs": [],
   "source": [
    "result = re.findall('<p style=\"text-align: justify;\">(.*)</p>',x )"
   ]
  },
  {
   "cell_type": "code",
   "execution_count": 128,
   "metadata": {},
   "outputs": [
    {
     "data": {
      "text/plain": [
       "6"
      ]
     },
     "execution_count": 128,
     "metadata": {},
     "output_type": "execute_result"
    }
   ],
   "source": [
    "len(result)"
   ]
  },
  {
   "cell_type": "code",
   "execution_count": 98,
   "metadata": {},
   "outputs": [],
   "source": [
    "del result[-1]"
   ]
  },
  {
   "cell_type": "code",
   "execution_count": 101,
   "metadata": {},
   "outputs": [
    {
     "data": {
      "text/plain": [
       "5"
      ]
     },
     "execution_count": 101,
     "metadata": {},
     "output_type": "execute_result"
    }
   ],
   "source": [
    "len(result)"
   ]
  },
  {
   "cell_type": "code",
   "execution_count": null,
   "metadata": {},
   "outputs": [],
   "source": [
    "del result[0]"
   ]
  },
  {
   "cell_type": "code",
   "execution_count": 107,
   "metadata": {},
   "outputs": [],
   "source": [
    "lol = \"\".join(result)"
   ]
  },
  {
   "cell_type": "code",
   "execution_count": 108,
   "metadata": {},
   "outputs": [
    {
     "data": {
      "text/plain": [
       "'In news that should come as little surprise, just a month after <strong>Cardi B</strong> announced she temporarily reunited with ex <strong>Offset</strong> for a weekend in Puerto Rico because she &#8220;needed sex&#8221; (<a href=\"https://thatgrapejuice.net/2018/12/cardi-addresses-puerto-rico-reunion-with-offset-needed-sex/\">click here to read</a> more on that), the rapstress told the press she and the <strong>Migos</strong> star are &#8220;working things out.&#8221;Their highly publicized breakup, announced by the <strong>&#8216;Bodak Yellow&#8217;</strong> beauty on Instagram in early December 2018 (as we <a href=\"https://thatgrapejuice.net/2018/12/cardi-confirms-divorce-from-offset/\">reported here</a>), was followed by drama after drama including Offset crashing one of the femcee&#8217;s live performances to beg her forgiveness.Now, as fans continue to urge her to stay away from him, it appears their advice has fallen on deaf ears.\\xa0 Hear it from her lips inside:The video above surfaced when the rapper was approached by members of the press Thursday (<strong>January 31</strong>) as she was leaving a Manhattan\\xa0criminal court for <a href=\"https://thatgrapejuice.net/2018/10/watch-cardi-hands-herself-over-the-police/\">alleged involvement in a strip-club fight</a>.For the record, Cardi &#8211; despite the video above &#8211; has denied news she has reconciled with Offset and slammed TMZ (in a now deleted tweet) for reporting she allowed him to move back into their Atlanta home.'"
      ]
     },
     "execution_count": 108,
     "metadata": {},
     "output_type": "execute_result"
    }
   ],
   "source": [
    "lol"
   ]
  },
  {
   "cell_type": "code",
   "execution_count": 132,
   "metadata": {},
   "outputs": [],
   "source": [
    "def get_clean_content(txt):\n",
    "    result = re.findall('<p style=\"text-align: justify;\">(.*)</p>',txt)\n",
    "    x = len(result) - 1\n",
    "    final = \"\".join(result[:-1])\n",
    "    return final"
   ]
  },
  {
   "cell_type": "code",
   "execution_count": 135,
   "metadata": {},
   "outputs": [
    {
     "data": {
      "text/plain": [
       "'In news that should come as little surprise, just a month after <strong>Cardi B</strong> announced she temporarily reunited with ex <strong>Offset</strong> for a weekend in Puerto Rico because she &#8220;needed sex&#8221; (<a href=\"https://thatgrapejuice.net/2018/12/cardi-addresses-puerto-rico-reunion-with-offset-needed-sex/\">click here to read</a> more on that), the rapstress told the press she and the <strong>Migos</strong> star are &#8220;working things out.&#8221;Their highly publicized breakup, announced by the <strong>&#8216;Bodak Yellow&#8217;</strong> beauty on Instagram in early December 2018 (as we <a href=\"https://thatgrapejuice.net/2018/12/cardi-confirms-divorce-from-offset/\">reported here</a>), was followed by drama after drama including Offset crashing one of the femcee&#8217;s live performances to beg her forgiveness.Now, as fans continue to urge her to stay away from him, it appears their advice has fallen on deaf ears.\\xa0 Hear it from her lips inside:The video above surfaced when the rapper was approached by members of the press Thursday (<strong>January 31</strong>) as she was leaving a Manhattan\\xa0criminal court for <a href=\"https://thatgrapejuice.net/2018/10/watch-cardi-hands-herself-over-the-police/\">alleged involvement in a strip-club fight</a>.For the record, Cardi &#8211; despite the video above &#8211; has denied news she has reconciled with Offset and slammed TMZ (in a now deleted tweet) for reporting she allowed him to move back into their Atlanta home.'"
      ]
     },
     "execution_count": 135,
     "metadata": {},
     "output_type": "execute_result"
    }
   ],
   "source": [
    "get_clean_content(all_content[1])"
   ]
  },
  {
   "cell_type": "code",
   "execution_count": 134,
   "metadata": {},
   "outputs": [],
   "source": [
    "cleaned_text = [get_clean_content(all_content[i]) for i in range(0, len(all_content))]"
   ]
  },
  {
   "cell_type": "code",
   "execution_count": 136,
   "metadata": {},
   "outputs": [],
   "source": [
    "final_df[\"cleaned_text\"] = cleaned_text"
   ]
  },
  {
   "cell_type": "code",
   "execution_count": 140,
   "metadata": {},
   "outputs": [
    {
     "data": {
      "text/html": [
       "<div>\n",
       "<style scoped>\n",
       "    .dataframe tbody tr th:only-of-type {\n",
       "        vertical-align: middle;\n",
       "    }\n",
       "\n",
       "    .dataframe tbody tr th {\n",
       "        vertical-align: top;\n",
       "    }\n",
       "\n",
       "    .dataframe thead th {\n",
       "        text-align: right;\n",
       "    }\n",
       "</style>\n",
       "<table border=\"1\" class=\"dataframe\">\n",
       "  <thead>\n",
       "    <tr style=\"text-align: right;\">\n",
       "      <th></th>\n",
       "      <th>Url</th>\n",
       "      <th>Content</th>\n",
       "      <th>cleaned_text</th>\n",
       "    </tr>\n",
       "  </thead>\n",
       "  <tbody>\n",
       "    <tr>\n",
       "      <th>0</th>\n",
       "      <td>https://thatgrapejuice.net/entertainment/2019/...</td>\n",
       "      <td>\\n&lt;!doctype html&gt;\\n&lt;html lang=\"en\"&gt;\\n&lt;head&gt;\\n&lt;...</td>\n",
       "      <td>Much like fellow celebrities &lt;strong&gt;Janet Jac...</td>\n",
       "    </tr>\n",
       "    <tr>\n",
       "      <th>1</th>\n",
       "      <td>https://thatgrapejuice.net/2019/01/cardi-says-...</td>\n",
       "      <td>\\n&lt;!doctype html&gt;\\n&lt;html lang=\"en\"&gt;\\n&lt;head&gt;\\n&lt;...</td>\n",
       "      <td>In news that should come as little surprise, j...</td>\n",
       "    </tr>\n",
       "    <tr>\n",
       "      <th>2</th>\n",
       "      <td>https://thatgrapejuice.net/2019/01/new-video-j...</td>\n",
       "      <td>\\n&lt;!doctype html&gt;\\n&lt;html lang=\"en\"&gt;\\n&lt;head&gt;\\n&lt;...</td>\n",
       "      <td>It&amp;#8217;s been nearly a year since rapper &lt;st...</td>\n",
       "    </tr>\n",
       "    <tr>\n",
       "      <th>3</th>\n",
       "      <td>https://thatgrapejuice.net/entertainment/2019/...</td>\n",
       "      <td>\\n&lt;!doctype html&gt;\\n&lt;html lang=\"en\"&gt;\\n&lt;head&gt;\\n&lt;...</td>\n",
       "      <td>&lt;a href=\"https://thatgrapejuice.net/2018/05/ne...</td>\n",
       "    </tr>\n",
       "    <tr>\n",
       "      <th>4</th>\n",
       "      <td>https://thatgrapejuice.net/entertainment/2019/...</td>\n",
       "      <td>\\n&lt;!doctype html&gt;\\n&lt;html lang=\"en\"&gt;\\n&lt;head&gt;\\n&lt;...</td>\n",
       "      <td>&lt;strong&gt;Bravo&lt;/strong&gt; are officially bringing...</td>\n",
       "    </tr>\n",
       "    <tr>\n",
       "      <th>5</th>\n",
       "      <td>https://thatgrapejuice.net/2019/01/new-video-a...</td>\n",
       "      <td>\\n&lt;!doctype html&gt;\\n&lt;html lang=\"en\"&gt;\\n&lt;head&gt;\\n&lt;...</td>\n",
       "      <td>&lt;strong&gt;Ally Brooke&lt;/strong&gt; aims to blaze wit...</td>\n",
       "    </tr>\n",
       "    <tr>\n",
       "      <th>6</th>\n",
       "      <td>https://thatgrapejuice.net/2019/01/retro-rewin...</td>\n",
       "      <td>\\n&lt;!doctype html&gt;\\n&lt;html lang=\"en\"&gt;\\n&lt;head&gt;\\n&lt;...</td>\n",
       "      <td>So, as our retrospective features &lt;strong&gt;‘Fro...</td>\n",
       "    </tr>\n",
       "    <tr>\n",
       "      <th>7</th>\n",
       "      <td>https://thatgrapejuice.net/2019/01/diana-ross-...</td>\n",
       "      <td>\\n&lt;!doctype html&gt;\\n&lt;html lang=\"en\"&gt;\\n&lt;head&gt;\\n&lt;...</td>\n",
       "      <td>&lt;strong&gt;Diana Ross&lt;/strong&gt; has graced some of...</td>\n",
       "    </tr>\n",
       "    <tr>\n",
       "      <th>8</th>\n",
       "      <td>https://thatgrapejuice.net/2019/01/watch-janet...</td>\n",
       "      <td>\\n&lt;!doctype html&gt;\\n&lt;html lang=\"en\"&gt;\\n&lt;head&gt;\\n&lt;...</td>\n",
       "      <td>Janet surprised fans with a private concert in...</td>\n",
       "    </tr>\n",
       "    <tr>\n",
       "      <th>9</th>\n",
       "      <td>https://thatgrapejuice.net/2019/01/chris-brown...</td>\n",
       "      <td>\\n&lt;!doctype html&gt;\\n&lt;html lang=\"en\"&gt;\\n&lt;head&gt;\\n&lt;...</td>\n",
       "      <td>The lady made headlines when sources from with...</td>\n",
       "    </tr>\n",
       "    <tr>\n",
       "      <th>10</th>\n",
       "      <td>https://thatgrapejuice.net/2019/01/hilarious-c...</td>\n",
       "      <td>\\n&lt;!doctype html&gt;\\n&lt;html lang=\"en\"&gt;\\n&lt;head&gt;\\n&lt;...</td>\n",
       "      <td>&lt;strong&gt;Jimmy Kimmel Live!&lt;/strong&gt; was her la...</td>\n",
       "    </tr>\n",
       "    <tr>\n",
       "      <th>11</th>\n",
       "      <td>https://thatgrapejuice.net/2019/01/report-tina...</td>\n",
       "      <td>\\n&lt;!doctype html&gt;\\n&lt;html lang=\"en\"&gt;\\n&lt;head&gt;\\n&lt;...</td>\n",
       "      <td>The &amp;#8216;&lt;strong&gt;Aquarius&amp;#8217;&lt;/strong&gt; mu...</td>\n",
       "    </tr>\n",
       "    <tr>\n",
       "      <th>12</th>\n",
       "      <td>https://thatgrapejuice.net/2019/01/first-look-...</td>\n",
       "      <td>\\n&lt;!doctype html&gt;\\n&lt;html lang=\"en\"&gt;\\n&lt;head&gt;\\n&lt;...</td>\n",
       "      <td>&lt;strong&gt;Serena Williams&lt;/strong&gt; served to ult...</td>\n",
       "    </tr>\n",
       "    <tr>\n",
       "      <th>13</th>\n",
       "      <td>https://thatgrapejuice.net/2019/01/watch-chris...</td>\n",
       "      <td>\\n&lt;!doctype html&gt;\\n&lt;html lang=\"en\"&gt;\\n&lt;head&gt;\\n&lt;...</td>\n",
       "      <td>&lt;strong&gt;Christina Aguilera&lt;/strong&gt; may be mor...</td>\n",
       "    </tr>\n",
       "    <tr>\n",
       "      <th>14</th>\n",
       "      <td>https://thatgrapejuice.net/2019/01/chart-check...</td>\n",
       "      <td>\\n&lt;!doctype html&gt;\\n&lt;html lang=\"en\"&gt;\\n&lt;head&gt;\\n&lt;...</td>\n",
       "      <td>After ringing in the new year atop the Hot 100...</td>\n",
       "    </tr>\n",
       "    <tr>\n",
       "      <th>15</th>\n",
       "      <td>https://thatgrapejuice.net/entertainment/2019/...</td>\n",
       "      <td>\\n&lt;!doctype html&gt;\\n&lt;html lang=\"en\"&gt;\\n&lt;head&gt;\\n&lt;...</td>\n",
       "      <td>Much like &lt;strong&gt;Kevin Hart&lt;/strong&gt; (whose c...</td>\n",
       "    </tr>\n",
       "    <tr>\n",
       "      <th>16</th>\n",
       "      <td>https://thatgrapejuice.net/2019/01/ciara-scorc...</td>\n",
       "      <td>\\n&lt;!doctype html&gt;\\n&lt;html lang=\"en\"&gt;\\n&lt;head&gt;\\n&lt;...</td>\n",
       "      <td>&lt;strong&gt;Ciara&lt;/strong&gt;&amp;#8216;s hit her faithfu...</td>\n",
       "    </tr>\n",
       "    <tr>\n",
       "      <th>17</th>\n",
       "      <td>https://thatgrapejuice.net/2019/01/nicki-minaj...</td>\n",
       "      <td>\\n&lt;!doctype html&gt;\\n&lt;html lang=\"en\"&gt;\\n&lt;head&gt;\\n&lt;...</td>\n",
       "      <td>&lt;strong&gt;Nicki Minaj &lt;/strong&gt;and&lt;strong&gt; Cardi...</td>\n",
       "    </tr>\n",
       "    <tr>\n",
       "      <th>18</th>\n",
       "      <td>https://thatgrapejuice.net/2019/01/celebrities...</td>\n",
       "      <td>\\n&lt;!doctype html&gt;\\n&lt;html lang=\"en\"&gt;\\n&lt;head&gt;\\n&lt;...</td>\n",
       "      <td>&lt;strong&gt;Janet Jackson, Shonda Rimes, Viola Dav...</td>\n",
       "    </tr>\n",
       "    <tr>\n",
       "      <th>19</th>\n",
       "      <td>https://thatgrapejuice.net/culture/2019/01/kam...</td>\n",
       "      <td>\\n&lt;!doctype html&gt;\\n&lt;html lang=\"en\"&gt;\\n&lt;head&gt;\\n&lt;...</td>\n",
       "      <td></td>\n",
       "    </tr>\n",
       "    <tr>\n",
       "      <th>20</th>\n",
       "      <td>https://thatgrapejuice.net/2019/01/maroon-supe...</td>\n",
       "      <td>\\n&lt;!doctype html&gt;\\n&lt;html lang=\"en\"&gt;\\n&lt;head&gt;\\n&lt;...</td>\n",
       "      <td>With the &lt;strong&gt;2019 Super Bowl&lt;/strong&gt; bein...</td>\n",
       "    </tr>\n",
       "    <tr>\n",
       "      <th>21</th>\n",
       "      <td>https://thatgrapejuice.net/2019/01/cole-headli...</td>\n",
       "      <td>\\n&lt;!doctype html&gt;\\n&lt;html lang=\"en\"&gt;\\n&lt;head&gt;\\n&lt;...</td>\n",
       "      <td>The Hip-Hop titan just dropped new single&lt;a hr...</td>\n",
       "    </tr>\n",
       "    <tr>\n",
       "      <th>22</th>\n",
       "      <td>https://thatgrapejuice.net/2019/01/normani-man...</td>\n",
       "      <td>\\n&lt;!doctype html&gt;\\n&lt;html lang=\"en\"&gt;\\n&lt;head&gt;\\n&lt;...</td>\n",
       "      <td>&amp;#8216;Stranger&amp;#8217; leads the way for the p...</td>\n",
       "    </tr>\n",
       "    <tr>\n",
       "      <th>23</th>\n",
       "      <td>https://thatgrapejuice.net/2019/01/janet-jacks...</td>\n",
       "      <td>\\n&lt;!doctype html&gt;\\n&lt;html lang=\"en\"&gt;\\n&lt;head&gt;\\n&lt;...</td>\n",
       "      <td>&lt;strong&gt;Janet Jackson&lt;/strong&gt; is taking a wor...</td>\n",
       "    </tr>\n",
       "    <tr>\n",
       "      <th>24</th>\n",
       "      <td>https://thatgrapejuice.net/2019/01/recording-a...</td>\n",
       "      <td>\\n&lt;!doctype html&gt;\\n&lt;html lang=\"en\"&gt;\\n&lt;head&gt;\\n&lt;...</td>\n",
       "      <td>Just like that one tweet set the Internet abla...</td>\n",
       "    </tr>\n",
       "    <tr>\n",
       "      <th>25</th>\n",
       "      <td>https://thatgrapejuice.net/entertainment/2019/...</td>\n",
       "      <td>\\n&lt;!doctype html&gt;\\n&lt;html lang=\"en\"&gt;\\n&lt;head&gt;\\n&lt;...</td>\n",
       "      <td>Few stars can say they&amp;#8217;ve survived an in...</td>\n",
       "    </tr>\n",
       "    <tr>\n",
       "      <th>26</th>\n",
       "      <td>https://thatgrapejuice.net/entertainment/2019/...</td>\n",
       "      <td>\\n&lt;!doctype html&gt;\\n&lt;html lang=\"en\"&gt;\\n&lt;head&gt;\\n&lt;...</td>\n",
       "      <td>&lt;strong&gt;&amp;#8216;On &amp;amp; On&amp;#8217;&lt;/strong&gt; tak...</td>\n",
       "    </tr>\n",
       "    <tr>\n",
       "      <th>27</th>\n",
       "      <td>https://thatgrapejuice.net/entertainment/2019/...</td>\n",
       "      <td>\\n&lt;!doctype html&gt;\\n&lt;html lang=\"en\"&gt;\\n&lt;head&gt;\\n&lt;...</td>\n",
       "      <td>&lt;strong&gt;&amp;#8216;Empire&amp;#8217;&lt;/strong&gt; star &lt;st...</td>\n",
       "    </tr>\n",
       "    <tr>\n",
       "      <th>28</th>\n",
       "      <td>https://thatgrapejuice.net/2019/01/christina-a...</td>\n",
       "      <td>\\n&lt;!doctype html&gt;\\n&lt;html lang=\"en\"&gt;\\n&lt;head&gt;\\n&lt;...</td>\n",
       "      <td>Confirming our &lt;a href=\"https://thatgrapejuice...</td>\n",
       "    </tr>\n",
       "    <tr>\n",
       "      <th>29</th>\n",
       "      <td>https://thatgrapejuice.net/entertainment/2019/...</td>\n",
       "      <td>\\n&lt;!doctype html&gt;\\n&lt;html lang=\"en\"&gt;\\n&lt;head&gt;\\n&lt;...</td>\n",
       "      <td>In a developing story, &lt;strong&gt;That Grape Juic...</td>\n",
       "    </tr>\n",
       "    <tr>\n",
       "      <th>...</th>\n",
       "      <td>...</td>\n",
       "      <td>...</td>\n",
       "      <td>...</td>\n",
       "    </tr>\n",
       "    <tr>\n",
       "      <th>510</th>\n",
       "      <td>https://thatgrapejuice.net/2019/09/kanye-west-...</td>\n",
       "      <td>\\n&lt;!doctype html&gt;\\n&lt;html lang=\"en\"&gt;\\n&lt;head&gt;\\n&lt;...</td>\n",
       "      <td>&lt;strong&gt;Kanye West&lt;/strong&gt;&amp;#8216;s elusive ne...</td>\n",
       "    </tr>\n",
       "    <tr>\n",
       "      <th>511</th>\n",
       "      <td>https://thatgrapejuice.net/2019/09/freshly-squ...</td>\n",
       "      <td>\\n&lt;!doctype html&gt;\\n&lt;html lang=\"en\"&gt;\\n&lt;head&gt;\\n&lt;...</td>\n",
       "      <td>South London sister duo &lt;strong&gt;BLESSED&lt;/stron...</td>\n",
       "    </tr>\n",
       "    <tr>\n",
       "      <th>512</th>\n",
       "      <td>https://thatgrapejuice.net/2019/09/nicki-minaj...</td>\n",
       "      <td>\\n&lt;!doctype html&gt;\\n&lt;html lang=\"en\"&gt;\\n&lt;head&gt;\\n&lt;...</td>\n",
       "      <td>&lt;strong&gt;Nicki Minaj &lt;/strong&gt;surprised many wh...</td>\n",
       "    </tr>\n",
       "    <tr>\n",
       "      <th>513</th>\n",
       "      <td>https://thatgrapejuice.net/entertainment/2019/...</td>\n",
       "      <td>\\n&lt;!doctype html&gt;\\n&lt;html lang=\"en\"&gt;\\n&lt;head&gt;\\n&lt;...</td>\n",
       "      <td>&lt;strong&gt;Kandi Burruss&lt;/strong&gt;&amp;#8216; personal...</td>\n",
       "    </tr>\n",
       "    <tr>\n",
       "      <th>514</th>\n",
       "      <td>https://thatgrapejuice.net/2019/09/pinks-funho...</td>\n",
       "      <td>\\n&lt;!doctype html&gt;\\n&lt;html lang=\"en\"&gt;\\n&lt;head&gt;\\n&lt;...</td>\n",
       "      <td></td>\n",
       "    </tr>\n",
       "    <tr>\n",
       "      <th>515</th>\n",
       "      <td>https://thatgrapejuice.net/2019/09/chart-rewin...</td>\n",
       "      <td>\\n&lt;!doctype html&gt;\\n&lt;html lang=\"en\"&gt;\\n&lt;head&gt;\\n&lt;...</td>\n",
       "      <td>Readers of &lt;strong&gt;That Grape Juice&lt;/strong&gt; k...</td>\n",
       "    </tr>\n",
       "    <tr>\n",
       "      <th>516</th>\n",
       "      <td>https://thatgrapejuice.net/2019/09/thanks-tik-...</td>\n",
       "      <td>\\n&lt;!doctype html&gt;\\n&lt;html lang=\"en\"&gt;\\n&lt;head&gt;\\n&lt;...</td>\n",
       "      <td>In 2006 (in Youtube&amp;#8217;s infancy), one hit ...</td>\n",
       "    </tr>\n",
       "    <tr>\n",
       "      <th>517</th>\n",
       "      <td>https://thatgrapejuice.net/2019/09/new-song-kr...</td>\n",
       "      <td>\\n&lt;!doctype html&gt;\\n&lt;html lang=\"en\"&gt;\\n&lt;head&gt;\\n&lt;...</td>\n",
       "      <td>After joining forces for 2016&amp;#8217;s NBC adap...</td>\n",
       "    </tr>\n",
       "    <tr>\n",
       "      <th>518</th>\n",
       "      <td>https://thatgrapejuice.net/2019/09/chris-brown...</td>\n",
       "      <td>\\n&lt;!doctype html&gt;\\n&lt;html lang=\"en\"&gt;\\n&lt;head&gt;\\n&lt;...</td>\n",
       "      <td>Just two years after unveiling a whopping 45 s...</td>\n",
       "    </tr>\n",
       "    <tr>\n",
       "      <th>519</th>\n",
       "      <td>https://thatgrapejuice.net/2019/09/watch-ciara...</td>\n",
       "      <td>\\n&lt;!doctype html&gt;\\n&lt;html lang=\"en\"&gt;\\n&lt;head&gt;\\n&lt;...</td>\n",
       "      <td>This week 15 years ago, &lt;strong&gt;Ciara&lt;/strong&gt;...</td>\n",
       "    </tr>\n",
       "    <tr>\n",
       "      <th>520</th>\n",
       "      <td>https://thatgrapejuice.net/2019/09/new-song-sl...</td>\n",
       "      <td>\\n&lt;!doctype html&gt;\\n&lt;html lang=\"en\"&gt;\\n&lt;head&gt;\\n&lt;...</td>\n",
       "      <td>&lt;strong&gt;H.E.R.&lt;/strong&gt; may be renown for her ...</td>\n",
       "    </tr>\n",
       "    <tr>\n",
       "      <th>521</th>\n",
       "      <td>https://thatgrapejuice.net/2019/09/exclusive-f...</td>\n",
       "      <td>\\n&lt;!doctype html&gt;\\n&lt;html lang=\"en\"&gt;\\n&lt;head&gt;\\n&lt;...</td>\n",
       "      <td>&lt;strong&gt;Fantasia&lt;/strong&gt; is flying freer than...</td>\n",
       "    </tr>\n",
       "    <tr>\n",
       "      <th>522</th>\n",
       "      <td>https://thatgrapejuice.net/2019/09/new-song-sh...</td>\n",
       "      <td>\\n&lt;!doctype html&gt;\\n&lt;html lang=\"en\"&gt;\\n&lt;head&gt;\\n&lt;...</td>\n",
       "      <td>The&lt;strong&gt; Cheat Codes&lt;/strong&gt; remix is just...</td>\n",
       "    </tr>\n",
       "    <tr>\n",
       "      <th>523</th>\n",
       "      <td>https://thatgrapejuice.net/entertainment/2019/...</td>\n",
       "      <td>\\n&lt;!doctype html&gt;\\n&lt;html lang=\"en\"&gt;\\n&lt;head&gt;\\n&lt;...</td>\n",
       "      <td>&lt;strong&gt;ABC&lt;/strong&gt; hit &lt;strong&gt;&amp;#8216;How To...</td>\n",
       "    </tr>\n",
       "    <tr>\n",
       "      <th>524</th>\n",
       "      <td>https://thatgrapejuice.net/2019/09/new-song-da...</td>\n",
       "      <td>\\n&lt;!doctype html&gt;\\n&lt;html lang=\"en\"&gt;\\n&lt;head&gt;\\n&lt;...</td>\n",
       "      <td>&lt;strong&gt;Nicki Minaj&lt;/strong&gt; may have unexpect...</td>\n",
       "    </tr>\n",
       "    <tr>\n",
       "      <th>525</th>\n",
       "      <td>https://thatgrapejuice.net/2019/09/new-song-li...</td>\n",
       "      <td>\\n&lt;!doctype html&gt;\\n&lt;html lang=\"en\"&gt;\\n&lt;head&gt;\\n&lt;...</td>\n",
       "      <td>&lt;strong&gt;Lil Kim&lt;/strong&gt; gets all sorts of nas...</td>\n",
       "    </tr>\n",
       "    <tr>\n",
       "      <th>526</th>\n",
       "      <td>https://thatgrapejuice.net/2019/09/new-video-f...</td>\n",
       "      <td>\\n&lt;!doctype html&gt;\\n&lt;html lang=\"en\"&gt;\\n&lt;head&gt;\\n&lt;...</td>\n",
       "      <td>It&amp;#8217;s finally here!After ample teasing (d...</td>\n",
       "    </tr>\n",
       "    <tr>\n",
       "      <th>527</th>\n",
       "      <td>https://thatgrapejuice.net/2019/09/new-song-br...</td>\n",
       "      <td>\\n&lt;!doctype html&gt;\\n&lt;html lang=\"en\"&gt;\\n&lt;head&gt;\\n&lt;...</td>\n",
       "      <td>The length and breadth of the week has seen Th...</td>\n",
       "    </tr>\n",
       "    <tr>\n",
       "      <th>528</th>\n",
       "      <td>https://thatgrapejuice.net/2019/09/new-song-ch...</td>\n",
       "      <td>\\n&lt;!doctype html&gt;\\n&lt;html lang=\"en\"&gt;\\n&lt;head&gt;\\n&lt;...</td>\n",
       "      <td>Cop a gander of &lt;strong&gt;Christina Aguilera&lt;/st...</td>\n",
       "    </tr>\n",
       "    <tr>\n",
       "      <th>529</th>\n",
       "      <td>https://thatgrapejuice.net/entertainment/2019/...</td>\n",
       "      <td>\\n&lt;!doctype html&gt;\\n&lt;html lang=\"en\"&gt;\\n&lt;head&gt;\\n&lt;...</td>\n",
       "      <td>&lt;strong&gt;Kandi Burruss&lt;/strong&gt;&amp;#8216; hustle s...</td>\n",
       "    </tr>\n",
       "    <tr>\n",
       "      <th>530</th>\n",
       "      <td>https://thatgrapejuice.net/2019/09/lil-kim-rec...</td>\n",
       "      <td>\\n&lt;!doctype html&gt;\\n&lt;html lang=\"en\"&gt;\\n&lt;head&gt;\\n&lt;...</td>\n",
       "      <td>As Hip-Hop icons go, few can rival the colossa...</td>\n",
       "    </tr>\n",
       "    <tr>\n",
       "      <th>531</th>\n",
       "      <td>https://thatgrapejuice.net/2019/09/breaking-sh...</td>\n",
       "      <td>\\n&lt;!doctype html&gt;\\n&lt;html lang=\"en\"&gt;\\n&lt;head&gt;\\n&lt;...</td>\n",
       "      <td>Months of murmurs have finally come to a hush ...</td>\n",
       "    </tr>\n",
       "    <tr>\n",
       "      <th>532</th>\n",
       "      <td>https://thatgrapejuice.net/entertainment/2019/...</td>\n",
       "      <td>\\n&lt;!doctype html&gt;\\n&lt;html lang=\"en\"&gt;\\n&lt;head&gt;\\n&lt;...</td>\n",
       "      <td>They&amp;#8217;re back! Mark those calendars becau...</td>\n",
       "    </tr>\n",
       "    <tr>\n",
       "      <th>533</th>\n",
       "      <td>https://thatgrapejuice.net/2019/09/grammys-202...</td>\n",
       "      <td>\\n&lt;!doctype html&gt;\\n&lt;html lang=\"en\"&gt;\\n&lt;head&gt;\\n&lt;...</td>\n",
       "      <td>It&amp;#8217;s almost time for the &lt;strong&gt;Grammy ...</td>\n",
       "    </tr>\n",
       "    <tr>\n",
       "      <th>534</th>\n",
       "      <td>https://thatgrapejuice.net/2019/09/lil-kim-ann...</td>\n",
       "      <td>\\n&lt;!doctype html&gt;\\n&lt;html lang=\"en\"&gt;\\n&lt;head&gt;\\n&lt;...</td>\n",
       "      <td>14 years may have separated fans of &lt;strong&gt;Li...</td>\n",
       "    </tr>\n",
       "    <tr>\n",
       "      <th>535</th>\n",
       "      <td>https://thatgrapejuice.net/2019/09/new-video-c...</td>\n",
       "      <td>\\n&lt;!doctype html&gt;\\n&lt;html lang=\"en\"&gt;\\n&lt;head&gt;\\n&lt;...</td>\n",
       "      <td>&lt;strong&gt;Celine Dion&lt;/strong&gt; is sharing her &lt;s...</td>\n",
       "    </tr>\n",
       "    <tr>\n",
       "      <th>536</th>\n",
       "      <td>https://thatgrapejuice.net/2019/09/lil-nas-pus...</td>\n",
       "      <td>\\n&lt;!doctype html&gt;\\n&lt;html lang=\"en\"&gt;\\n&lt;head&gt;\\n&lt;...</td>\n",
       "      <td>Thanks to the ongoing success of his sophomore...</td>\n",
       "    </tr>\n",
       "    <tr>\n",
       "      <th>537</th>\n",
       "      <td>https://thatgrapejuice.net/2019/09/new-song-pn...</td>\n",
       "      <td>\\n&lt;!doctype html&gt;\\n&lt;html lang=\"en\"&gt;\\n&lt;head&gt;\\n&lt;...</td>\n",
       "      <td>As a way to soothe disappointed fans, &lt;strong&gt;...</td>\n",
       "    </tr>\n",
       "    <tr>\n",
       "      <th>538</th>\n",
       "      <td>https://thatgrapejuice.net/2019/09/the-brits-a...</td>\n",
       "      <td>\\n&lt;!doctype html&gt;\\n&lt;html lang=\"en\"&gt;\\n&lt;head&gt;\\n&lt;...</td>\n",
       "      <td></td>\n",
       "    </tr>\n",
       "    <tr>\n",
       "      <th>539</th>\n",
       "      <td>https://thatgrapejuice.net/2019/09/french-mont...</td>\n",
       "      <td>\\n&lt;!doctype html&gt;\\n&lt;html lang=\"en\"&gt;\\n&lt;head&gt;\\n&lt;...</td>\n",
       "      <td>This week saw &lt;strong&gt;French Montana&lt;/strong&gt; ...</td>\n",
       "    </tr>\n",
       "  </tbody>\n",
       "</table>\n",
       "<p>540 rows × 3 columns</p>\n",
       "</div>"
      ],
      "text/plain": [
       "                                                   Url  \\\n",
       "0    https://thatgrapejuice.net/entertainment/2019/...   \n",
       "1    https://thatgrapejuice.net/2019/01/cardi-says-...   \n",
       "2    https://thatgrapejuice.net/2019/01/new-video-j...   \n",
       "3    https://thatgrapejuice.net/entertainment/2019/...   \n",
       "4    https://thatgrapejuice.net/entertainment/2019/...   \n",
       "5    https://thatgrapejuice.net/2019/01/new-video-a...   \n",
       "6    https://thatgrapejuice.net/2019/01/retro-rewin...   \n",
       "7    https://thatgrapejuice.net/2019/01/diana-ross-...   \n",
       "8    https://thatgrapejuice.net/2019/01/watch-janet...   \n",
       "9    https://thatgrapejuice.net/2019/01/chris-brown...   \n",
       "10   https://thatgrapejuice.net/2019/01/hilarious-c...   \n",
       "11   https://thatgrapejuice.net/2019/01/report-tina...   \n",
       "12   https://thatgrapejuice.net/2019/01/first-look-...   \n",
       "13   https://thatgrapejuice.net/2019/01/watch-chris...   \n",
       "14   https://thatgrapejuice.net/2019/01/chart-check...   \n",
       "15   https://thatgrapejuice.net/entertainment/2019/...   \n",
       "16   https://thatgrapejuice.net/2019/01/ciara-scorc...   \n",
       "17   https://thatgrapejuice.net/2019/01/nicki-minaj...   \n",
       "18   https://thatgrapejuice.net/2019/01/celebrities...   \n",
       "19   https://thatgrapejuice.net/culture/2019/01/kam...   \n",
       "20   https://thatgrapejuice.net/2019/01/maroon-supe...   \n",
       "21   https://thatgrapejuice.net/2019/01/cole-headli...   \n",
       "22   https://thatgrapejuice.net/2019/01/normani-man...   \n",
       "23   https://thatgrapejuice.net/2019/01/janet-jacks...   \n",
       "24   https://thatgrapejuice.net/2019/01/recording-a...   \n",
       "25   https://thatgrapejuice.net/entertainment/2019/...   \n",
       "26   https://thatgrapejuice.net/entertainment/2019/...   \n",
       "27   https://thatgrapejuice.net/entertainment/2019/...   \n",
       "28   https://thatgrapejuice.net/2019/01/christina-a...   \n",
       "29   https://thatgrapejuice.net/entertainment/2019/...   \n",
       "..                                                 ...   \n",
       "510  https://thatgrapejuice.net/2019/09/kanye-west-...   \n",
       "511  https://thatgrapejuice.net/2019/09/freshly-squ...   \n",
       "512  https://thatgrapejuice.net/2019/09/nicki-minaj...   \n",
       "513  https://thatgrapejuice.net/entertainment/2019/...   \n",
       "514  https://thatgrapejuice.net/2019/09/pinks-funho...   \n",
       "515  https://thatgrapejuice.net/2019/09/chart-rewin...   \n",
       "516  https://thatgrapejuice.net/2019/09/thanks-tik-...   \n",
       "517  https://thatgrapejuice.net/2019/09/new-song-kr...   \n",
       "518  https://thatgrapejuice.net/2019/09/chris-brown...   \n",
       "519  https://thatgrapejuice.net/2019/09/watch-ciara...   \n",
       "520  https://thatgrapejuice.net/2019/09/new-song-sl...   \n",
       "521  https://thatgrapejuice.net/2019/09/exclusive-f...   \n",
       "522  https://thatgrapejuice.net/2019/09/new-song-sh...   \n",
       "523  https://thatgrapejuice.net/entertainment/2019/...   \n",
       "524  https://thatgrapejuice.net/2019/09/new-song-da...   \n",
       "525  https://thatgrapejuice.net/2019/09/new-song-li...   \n",
       "526  https://thatgrapejuice.net/2019/09/new-video-f...   \n",
       "527  https://thatgrapejuice.net/2019/09/new-song-br...   \n",
       "528  https://thatgrapejuice.net/2019/09/new-song-ch...   \n",
       "529  https://thatgrapejuice.net/entertainment/2019/...   \n",
       "530  https://thatgrapejuice.net/2019/09/lil-kim-rec...   \n",
       "531  https://thatgrapejuice.net/2019/09/breaking-sh...   \n",
       "532  https://thatgrapejuice.net/entertainment/2019/...   \n",
       "533  https://thatgrapejuice.net/2019/09/grammys-202...   \n",
       "534  https://thatgrapejuice.net/2019/09/lil-kim-ann...   \n",
       "535  https://thatgrapejuice.net/2019/09/new-video-c...   \n",
       "536  https://thatgrapejuice.net/2019/09/lil-nas-pus...   \n",
       "537  https://thatgrapejuice.net/2019/09/new-song-pn...   \n",
       "538  https://thatgrapejuice.net/2019/09/the-brits-a...   \n",
       "539  https://thatgrapejuice.net/2019/09/french-mont...   \n",
       "\n",
       "                                               Content  \\\n",
       "0    \\n<!doctype html>\\n<html lang=\"en\">\\n<head>\\n<...   \n",
       "1    \\n<!doctype html>\\n<html lang=\"en\">\\n<head>\\n<...   \n",
       "2    \\n<!doctype html>\\n<html lang=\"en\">\\n<head>\\n<...   \n",
       "3    \\n<!doctype html>\\n<html lang=\"en\">\\n<head>\\n<...   \n",
       "4    \\n<!doctype html>\\n<html lang=\"en\">\\n<head>\\n<...   \n",
       "5    \\n<!doctype html>\\n<html lang=\"en\">\\n<head>\\n<...   \n",
       "6    \\n<!doctype html>\\n<html lang=\"en\">\\n<head>\\n<...   \n",
       "7    \\n<!doctype html>\\n<html lang=\"en\">\\n<head>\\n<...   \n",
       "8    \\n<!doctype html>\\n<html lang=\"en\">\\n<head>\\n<...   \n",
       "9    \\n<!doctype html>\\n<html lang=\"en\">\\n<head>\\n<...   \n",
       "10   \\n<!doctype html>\\n<html lang=\"en\">\\n<head>\\n<...   \n",
       "11   \\n<!doctype html>\\n<html lang=\"en\">\\n<head>\\n<...   \n",
       "12   \\n<!doctype html>\\n<html lang=\"en\">\\n<head>\\n<...   \n",
       "13   \\n<!doctype html>\\n<html lang=\"en\">\\n<head>\\n<...   \n",
       "14   \\n<!doctype html>\\n<html lang=\"en\">\\n<head>\\n<...   \n",
       "15   \\n<!doctype html>\\n<html lang=\"en\">\\n<head>\\n<...   \n",
       "16   \\n<!doctype html>\\n<html lang=\"en\">\\n<head>\\n<...   \n",
       "17   \\n<!doctype html>\\n<html lang=\"en\">\\n<head>\\n<...   \n",
       "18   \\n<!doctype html>\\n<html lang=\"en\">\\n<head>\\n<...   \n",
       "19   \\n<!doctype html>\\n<html lang=\"en\">\\n<head>\\n<...   \n",
       "20   \\n<!doctype html>\\n<html lang=\"en\">\\n<head>\\n<...   \n",
       "21   \\n<!doctype html>\\n<html lang=\"en\">\\n<head>\\n<...   \n",
       "22   \\n<!doctype html>\\n<html lang=\"en\">\\n<head>\\n<...   \n",
       "23   \\n<!doctype html>\\n<html lang=\"en\">\\n<head>\\n<...   \n",
       "24   \\n<!doctype html>\\n<html lang=\"en\">\\n<head>\\n<...   \n",
       "25   \\n<!doctype html>\\n<html lang=\"en\">\\n<head>\\n<...   \n",
       "26   \\n<!doctype html>\\n<html lang=\"en\">\\n<head>\\n<...   \n",
       "27   \\n<!doctype html>\\n<html lang=\"en\">\\n<head>\\n<...   \n",
       "28   \\n<!doctype html>\\n<html lang=\"en\">\\n<head>\\n<...   \n",
       "29   \\n<!doctype html>\\n<html lang=\"en\">\\n<head>\\n<...   \n",
       "..                                                 ...   \n",
       "510  \\n<!doctype html>\\n<html lang=\"en\">\\n<head>\\n<...   \n",
       "511  \\n<!doctype html>\\n<html lang=\"en\">\\n<head>\\n<...   \n",
       "512  \\n<!doctype html>\\n<html lang=\"en\">\\n<head>\\n<...   \n",
       "513  \\n<!doctype html>\\n<html lang=\"en\">\\n<head>\\n<...   \n",
       "514  \\n<!doctype html>\\n<html lang=\"en\">\\n<head>\\n<...   \n",
       "515  \\n<!doctype html>\\n<html lang=\"en\">\\n<head>\\n<...   \n",
       "516  \\n<!doctype html>\\n<html lang=\"en\">\\n<head>\\n<...   \n",
       "517  \\n<!doctype html>\\n<html lang=\"en\">\\n<head>\\n<...   \n",
       "518  \\n<!doctype html>\\n<html lang=\"en\">\\n<head>\\n<...   \n",
       "519  \\n<!doctype html>\\n<html lang=\"en\">\\n<head>\\n<...   \n",
       "520  \\n<!doctype html>\\n<html lang=\"en\">\\n<head>\\n<...   \n",
       "521  \\n<!doctype html>\\n<html lang=\"en\">\\n<head>\\n<...   \n",
       "522  \\n<!doctype html>\\n<html lang=\"en\">\\n<head>\\n<...   \n",
       "523  \\n<!doctype html>\\n<html lang=\"en\">\\n<head>\\n<...   \n",
       "524  \\n<!doctype html>\\n<html lang=\"en\">\\n<head>\\n<...   \n",
       "525  \\n<!doctype html>\\n<html lang=\"en\">\\n<head>\\n<...   \n",
       "526  \\n<!doctype html>\\n<html lang=\"en\">\\n<head>\\n<...   \n",
       "527  \\n<!doctype html>\\n<html lang=\"en\">\\n<head>\\n<...   \n",
       "528  \\n<!doctype html>\\n<html lang=\"en\">\\n<head>\\n<...   \n",
       "529  \\n<!doctype html>\\n<html lang=\"en\">\\n<head>\\n<...   \n",
       "530  \\n<!doctype html>\\n<html lang=\"en\">\\n<head>\\n<...   \n",
       "531  \\n<!doctype html>\\n<html lang=\"en\">\\n<head>\\n<...   \n",
       "532  \\n<!doctype html>\\n<html lang=\"en\">\\n<head>\\n<...   \n",
       "533  \\n<!doctype html>\\n<html lang=\"en\">\\n<head>\\n<...   \n",
       "534  \\n<!doctype html>\\n<html lang=\"en\">\\n<head>\\n<...   \n",
       "535  \\n<!doctype html>\\n<html lang=\"en\">\\n<head>\\n<...   \n",
       "536  \\n<!doctype html>\\n<html lang=\"en\">\\n<head>\\n<...   \n",
       "537  \\n<!doctype html>\\n<html lang=\"en\">\\n<head>\\n<...   \n",
       "538  \\n<!doctype html>\\n<html lang=\"en\">\\n<head>\\n<...   \n",
       "539  \\n<!doctype html>\\n<html lang=\"en\">\\n<head>\\n<...   \n",
       "\n",
       "                                          cleaned_text  \n",
       "0    Much like fellow celebrities <strong>Janet Jac...  \n",
       "1    In news that should come as little surprise, j...  \n",
       "2    It&#8217;s been nearly a year since rapper <st...  \n",
       "3    <a href=\"https://thatgrapejuice.net/2018/05/ne...  \n",
       "4    <strong>Bravo</strong> are officially bringing...  \n",
       "5    <strong>Ally Brooke</strong> aims to blaze wit...  \n",
       "6    So, as our retrospective features <strong>‘Fro...  \n",
       "7    <strong>Diana Ross</strong> has graced some of...  \n",
       "8    Janet surprised fans with a private concert in...  \n",
       "9    The lady made headlines when sources from with...  \n",
       "10   <strong>Jimmy Kimmel Live!</strong> was her la...  \n",
       "11   The &#8216;<strong>Aquarius&#8217;</strong> mu...  \n",
       "12   <strong>Serena Williams</strong> served to ult...  \n",
       "13   <strong>Christina Aguilera</strong> may be mor...  \n",
       "14   After ringing in the new year atop the Hot 100...  \n",
       "15   Much like <strong>Kevin Hart</strong> (whose c...  \n",
       "16   <strong>Ciara</strong>&#8216;s hit her faithfu...  \n",
       "17   <strong>Nicki Minaj </strong>and<strong> Cardi...  \n",
       "18   <strong>Janet Jackson, Shonda Rimes, Viola Dav...  \n",
       "19                                                      \n",
       "20   With the <strong>2019 Super Bowl</strong> bein...  \n",
       "21   The Hip-Hop titan just dropped new single<a hr...  \n",
       "22   &#8216;Stranger&#8217; leads the way for the p...  \n",
       "23   <strong>Janet Jackson</strong> is taking a wor...  \n",
       "24   Just like that one tweet set the Internet abla...  \n",
       "25   Few stars can say they&#8217;ve survived an in...  \n",
       "26   <strong>&#8216;On &amp; On&#8217;</strong> tak...  \n",
       "27   <strong>&#8216;Empire&#8217;</strong> star <st...  \n",
       "28   Confirming our <a href=\"https://thatgrapejuice...  \n",
       "29   In a developing story, <strong>That Grape Juic...  \n",
       "..                                                 ...  \n",
       "510  <strong>Kanye West</strong>&#8216;s elusive ne...  \n",
       "511  South London sister duo <strong>BLESSED</stron...  \n",
       "512  <strong>Nicki Minaj </strong>surprised many wh...  \n",
       "513  <strong>Kandi Burruss</strong>&#8216; personal...  \n",
       "514                                                     \n",
       "515  Readers of <strong>That Grape Juice</strong> k...  \n",
       "516  In 2006 (in Youtube&#8217;s infancy), one hit ...  \n",
       "517  After joining forces for 2016&#8217;s NBC adap...  \n",
       "518  Just two years after unveiling a whopping 45 s...  \n",
       "519  This week 15 years ago, <strong>Ciara</strong>...  \n",
       "520  <strong>H.E.R.</strong> may be renown for her ...  \n",
       "521  <strong>Fantasia</strong> is flying freer than...  \n",
       "522  The<strong> Cheat Codes</strong> remix is just...  \n",
       "523  <strong>ABC</strong> hit <strong>&#8216;How To...  \n",
       "524  <strong>Nicki Minaj</strong> may have unexpect...  \n",
       "525  <strong>Lil Kim</strong> gets all sorts of nas...  \n",
       "526  It&#8217;s finally here!After ample teasing (d...  \n",
       "527  The length and breadth of the week has seen Th...  \n",
       "528  Cop a gander of <strong>Christina Aguilera</st...  \n",
       "529  <strong>Kandi Burruss</strong>&#8216; hustle s...  \n",
       "530  As Hip-Hop icons go, few can rival the colossa...  \n",
       "531  Months of murmurs have finally come to a hush ...  \n",
       "532  They&#8217;re back! Mark those calendars becau...  \n",
       "533  It&#8217;s almost time for the <strong>Grammy ...  \n",
       "534  14 years may have separated fans of <strong>Li...  \n",
       "535  <strong>Celine Dion</strong> is sharing her <s...  \n",
       "536  Thanks to the ongoing success of his sophomore...  \n",
       "537  As a way to soothe disappointed fans, <strong>...  \n",
       "538                                                     \n",
       "539  This week saw <strong>French Montana</strong> ...  \n",
       "\n",
       "[540 rows x 3 columns]"
      ]
     },
     "execution_count": 140,
     "metadata": {},
     "output_type": "execute_result"
    }
   ],
   "source": [
    "final_df"
   ]
  },
  {
   "cell_type": "code",
   "execution_count": 1,
   "metadata": {},
   "outputs": [
    {
     "ename": "NameError",
     "evalue": "name 'final_df' is not defined",
     "output_type": "error",
     "traceback": [
      "\u001b[1;31m---------------------------------------------------------------------------\u001b[0m",
      "\u001b[1;31mNameError\u001b[0m                                 Traceback (most recent call last)",
      "\u001b[1;32m<ipython-input-1-589cee6f628a>\u001b[0m in \u001b[0;36m<module>\u001b[1;34m()\u001b[0m\n\u001b[1;32m----> 1\u001b[1;33m \u001b[0mfinal_df\u001b[0m\u001b[1;33m[\u001b[0m\u001b[1;34m'Url'\u001b[0m\u001b[1;33m]\u001b[0m\u001b[1;33m[\u001b[0m\u001b[1;36m538\u001b[0m\u001b[1;33m]\u001b[0m\u001b[1;33m\u001b[0m\u001b[0m\n\u001b[0m",
      "\u001b[1;31mNameError\u001b[0m: name 'final_df' is not defined"
     ]
    }
   ],
   "source": [
    "final_df['Url'][538]"
   ]
  },
  {
   "cell_type": "code",
   "execution_count": null,
   "metadata": {},
   "outputs": [],
   "source": []
  }
 ],
 "metadata": {
  "kernelspec": {
   "display_name": "Python 3",
   "language": "python",
   "name": "python3"
  },
  "language_info": {
   "codemirror_mode": {
    "name": "ipython",
    "version": 3
   },
   "file_extension": ".py",
   "mimetype": "text/x-python",
   "name": "python",
   "nbconvert_exporter": "python",
   "pygments_lexer": "ipython3",
   "version": "3.7.0"
  }
 },
 "nbformat": 4,
 "nbformat_minor": 2
}
